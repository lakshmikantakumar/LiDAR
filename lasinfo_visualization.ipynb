{
 "cells": [
  {
   "cell_type": "markdown",
   "id": "77090983-effb-472a-ad69-81b6bccca486",
   "metadata": {},
   "source": [
    "LAS data info and visualization."
   ]
  },
  {
   "cell_type": "code",
   "execution_count": 1,
   "id": "df38dd28-d456-4dad-b7ce-ef5c9f46f4ad",
   "metadata": {},
   "outputs": [
    {
     "name": "stderr",
     "output_type": "stream",
     "text": [
      "C:\\ProgramData\\anaconda3\\envs\\geo-env\\Lib\\site-packages\\pyproj\\__init__.py:89: UserWarning: pyproj unable to set database path.\n",
      "  _pyproj_global_context_initialize()\n"
     ]
    },
    {
     "name": "stdout",
     "output_type": "stream",
     "text": [
      "Jupyter environment detected. Enabling Open3D WebVisualizer.\n",
      "[Open3D INFO] WebRTC GUI backend enabled.\n",
      "[Open3D INFO] WebRTCWindowSystem: HTTP handshake server disabled.\n"
     ]
    }
   ],
   "source": [
    "# import lib\n",
    "import laspy\n",
    "import open3d as o3d\n",
    "import numpy as np\n",
    "import matplotlib as plt\n",
    "import matplotlib.cm as cm"
   ]
  },
  {
   "cell_type": "code",
   "execution_count": 2,
   "id": "765ec13c-c01b-4c88-af14-f77dca3b8359",
   "metadata": {},
   "outputs": [],
   "source": [
    "# Load the LAS/LAZ file\n",
    "las_file_path = r\"C:\\GDDGDC\\NIGST\\DHBHOL\\LiDAR\\DABHOL-000028.las\"  # Replace with your LAS/LAZ file path\n",
    "#read las\n",
    "las = laspy.read(las_file_path)"
   ]
  },
  {
   "cell_type": "code",
   "execution_count": 3,
   "id": "7a16aaef-30c4-4d60-b515-93f0d660478a",
   "metadata": {},
   "outputs": [
    {
     "name": "stdout",
     "output_type": "stream",
     "text": [
      "📋 LAS File Metadata:\n",
      "Number of Points: 7243166\n",
      "Scale Factors: [0.001 0.001 0.001]\n",
      "Offset Values: [-0. -0. -0.]\n",
      "Bounding Box: [ 3.07159893e+05  1.94553772e+06 -7.56350000e+01] to [ 3.07409892e+05  1.94578772e+06 -9.59000000e+00]\n"
     ]
    }
   ],
   "source": [
    "# Print Metadata \n",
    "print(\"📋 LAS File Metadata:\")\n",
    "print(f\"Number of Points: {len(las.points)}\")\n",
    "print(f\"Scale Factors: {las.header.scales}\")\n",
    "print(f\"Offset Values: {las.header.offsets}\")\n",
    "print(f\"Bounding Box: {las.header.mins} to {las.header.maxs}\")"
   ]
  },
  {
   "cell_type": "code",
   "execution_count": 4,
   "id": "6e93084a-e671-4789-8806-30c47c3b6636",
   "metadata": {},
   "outputs": [
    {
     "name": "stdout",
     "output_type": "stream",
     "text": [
      "\n",
      " Sample Point Data:\n",
      "Point 1: X=307161.93200000003, Y=1945779.6400000001, Z=-24.306, Intensity=20400, Classification=1\n",
      "Point 2: X=307162.06, Y=1945780.244, Z=-24.244, Intensity=17595, Classification=1\n",
      "Point 3: X=307161.919, Y=1945783.6, Z=-23.679000000000002, Intensity=11220, Classification=1\n",
      "Point 4: X=307162.322, Y=1945783.7210000001, Z=-23.477, Intensity=14535, Classification=1\n",
      "Point 5: X=307162.10000000003, Y=1945785.832, Z=-22.842, Intensity=10455, Classification=1\n"
     ]
    }
   ],
   "source": [
    "# Extract Coordinates\n",
    "points = np.vstack((las.x, las.y, las.z)).transpose()\n",
    "\n",
    "# Optional: Print first 5 points and some attributes\n",
    "print(\"\\n Sample Point Data:\")\n",
    "for i in range(5):\n",
    "    print(f\"Point {i + 1}: X={las.x[i]}, Y={las.y[i]}, Z={las.z[i]}, Intensity={las.intensity[i]}, Classification={las.classification[i]}\")\n"
   ]
  },
  {
   "cell_type": "code",
   "execution_count": 5,
   "id": "81e6b40e-aa16-4001-9135-8b41ad371f5f",
   "metadata": {},
   "outputs": [
    {
     "name": "stderr",
     "output_type": "stream",
     "text": [
      "C:\\Users\\Hp\\AppData\\Local\\Temp\\ipykernel_9168\\2822008299.py:8: MatplotlibDeprecationWarning: The get_cmap function was deprecated in Matplotlib 3.7 and will be removed in 3.11. Use ``matplotlib.colormaps[name]`` or ``matplotlib.colormaps.get_cmap()`` or ``pyplot.get_cmap()`` instead.\n",
      "  colors = cm.get_cmap(\"viridis\")(elevation_normalized)[:, :3]\n"
     ]
    },
    {
     "name": "stdout",
     "output_type": "stream",
     "text": [
      "\n",
      " Opening visualization window...\n"
     ]
    }
   ],
   "source": [
    "# Create Open3D point cloud and visualize\n",
    "pcd = o3d.geometry.PointCloud()\n",
    "pcd.points = o3d.utility.Vector3dVector(points)\n",
    "\n",
    "# Color by elevation\n",
    "elevation = points[:, 2]\n",
    "elevation_normalized = (elevation - elevation.min()) / (elevation.max() - elevation.min())\n",
    "colors = cm.get_cmap(\"viridis\")(elevation_normalized)[:, :3]\n",
    "pcd.colors = o3d.utility.Vector3dVector(colors)\n",
    "# Visualize the point cloud\n",
    "print(\"\\n Opening visualization window...\")\n",
    "o3d.visualization.draw_geometries([pcd])"
   ]
  },
  {
   "cell_type": "code",
   "execution_count": 6,
   "id": "7073fbec-8758-4e85-ae80-febc10bb3ab1",
   "metadata": {},
   "outputs": [],
   "source": [
    "# Extract and normalize intensity\n",
    "intensity = las.intensity.astype(np.float32)\n",
    "intensity_normalized = (intensity - intensity.min()) / (intensity.max() - intensity.min() + 1e-6)\n"
   ]
  },
  {
   "cell_type": "code",
   "execution_count": 8,
   "id": "8be77a60-32ca-4b4f-a5f0-ba50fd741624",
   "metadata": {},
   "outputs": [
    {
     "name": "stderr",
     "output_type": "stream",
     "text": [
      "C:\\Users\\Hp\\AppData\\Local\\Temp\\ipykernel_9168\\1393644547.py:2: MatplotlibDeprecationWarning: The get_cmap function was deprecated in Matplotlib 3.7 and will be removed in 3.11. Use ``matplotlib.colormaps[name]`` or ``matplotlib.colormaps.get_cmap()`` or ``pyplot.get_cmap()`` instead.\n",
      "  colors = cm.get_cmap(\"gray\")(intensity_normalized)[:, :3]  # Drop alpha channel\n"
     ]
    },
    {
     "name": "stdout",
     "output_type": "stream",
     "text": [
      "\n",
      " Visualizing point cloud colored by intensity...\n"
     ]
    }
   ],
   "source": [
    "# Map intensity to colors using matplotlib colormap\n",
    "colors = cm.get_cmap(\"gray\")(intensity_normalized)[:, :3]  # Drop alpha channel\n",
    "\n",
    "# Create Open3D point cloud\n",
    "pcd1 = o3d.geometry.PointCloud()\n",
    "pcd1.points = o3d.utility.Vector3dVector(points)\n",
    "pcd1.colors = o3d.utility.Vector3dVector(colors)\n",
    "# Visualize the point cloud\n",
    "print(\"\\n Visualizing point cloud colored by intensity...\")\n",
    "o3d.visualization.draw_geometries([pcd1])"
   ]
  },
  {
   "cell_type": "code",
   "execution_count": 10,
   "id": "520c8064-8b17-4ba1-b776-799f5c059401",
   "metadata": {},
   "outputs": [
    {
     "name": "stdout",
     "output_type": "stream",
     "text": [
      "\n",
      "🖼️ Visualizing point cloud colored by classification...\n"
     ]
    }
   ],
   "source": [
    "# Define color mapping for classifications\n",
    "# Format: classification_code: [R, G, B]\n",
    "class_colors = {\n",
    "    1: [0, 0.6, 0],   # Unclassified - gray\n",
    "    2: [0.6, 0.6, 0.0],   # Ground - green\n",
    "    6: [1.0, 0.0, 0.0],   # Building - red\n",
    "    7: [0.0, 0.0, 1.0],   # Low points - blue\n",
    "}\n",
    "\n",
    "# Default color for undefined classes\n",
    "default_color = [0.3, 0.3, 0.3]  # dark gray\n",
    "\n",
    "classifications = las.classification\n",
    "\n",
    "# Map each classification to its color\n",
    "colors = np.array([class_colors.get(cls, default_color) for cls in classifications])\n",
    "\n",
    "# Create Open3D point cloud\n",
    "pcd2 = o3d.geometry.PointCloud()\n",
    "pcd2.points = o3d.utility.Vector3dVector(points)\n",
    "pcd2.colors = o3d.utility.Vector3dVector(colors)\n",
    "\n",
    "# Visualize the point cloud\n",
    "print(\"\\n🖼️ Visualizing point cloud colored by classification...\")\n",
    "o3d.visualization.draw_geometries([pcd2])"
   ]
  },
  {
   "cell_type": "code",
   "execution_count": null,
   "id": "1ec5f14c-c823-494b-ac84-bdca3d93cd28",
   "metadata": {},
   "outputs": [],
   "source": []
  }
 ],
 "metadata": {
  "kernelspec": {
   "display_name": "geo-env",
   "language": "python",
   "name": "geo-env"
  },
  "language_info": {
   "codemirror_mode": {
    "name": "ipython",
    "version": 3
   },
   "file_extension": ".py",
   "mimetype": "text/x-python",
   "name": "python",
   "nbconvert_exporter": "python",
   "pygments_lexer": "ipython3",
   "version": "3.12.5"
  }
 },
 "nbformat": 4,
 "nbformat_minor": 5
}
